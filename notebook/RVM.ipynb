{
  "nbformat": 4,
  "nbformat_minor": 0,
  "metadata": {
    "colab": {
      "private_outputs": true,
      "provenance": []
    },
    "kernelspec": {
      "name": "python3",
      "display_name": "Python 3"
    },
    "language_info": {
      "name": "python"
    },
    "accelerator": "GPU"
  },
  "cells": [
    {
      "cell_type": "markdown",
      "metadata": {
        "id": "hJnxd6hdDymV"
      },
      "source": [
        "# Robust High-Resolution Video Matting with Temporal Guidance.\n",
        "\n",
        "![Teaser](https://raw.githubusercontent.com/PeterL1n/RobustVideoMatting/master/documentation/image/teaser.gif)\n",
        "\n",
        "[Project Site](https://peterl1n.github.io/RobustVideoMatting) | [GitHub](https://github.com/PeterL1n/RobustVideoMatting) | [Paper](https://arxiv.org/abs/2108.11515)\n",
        "\n",
        "\n",
        "## Colab Demo\n",
        "This colab notebook is set up to let you quickly test our model on your video."
      ]
    },
    {
      "cell_type": "markdown",
      "metadata": {
        "id": "9qD01TEQEg1p"
      },
      "source": [
        "### Option 1: Upload your video\n",
        "\n",
        "Run the cell below and upload your own video. (Only tested on .mp4 files)"
      ]
    },
    {
      "cell_type": "code",
      "metadata": {
        "id": "4cGycwzuEgF_"
      },
      "source": [
        "import os\n",
        "from google.colab import files\n",
        "\n",
        "uploaded = files.upload()           # Use colab upload dialog.\n",
        "uploaded = list(uploaded.keys())    # Get uploaded filenames.\n",
        "assert len(uploaded) == 1           # Make sure only uploaded one file.\n",
        "os.rename(uploaded[0], 'input.mp4') # Rename file to \"input.mp4\"."
      ],
      "execution_count": null,
      "outputs": []
    },
    {
      "cell_type": "markdown",
      "metadata": {
        "id": "-VWKlE6pGa9A"
      },
      "source": [
        "### Option 2: Try our demo video\n",
        "\n",
        "Run the cell below to download our demo video. Skip it if you have uploaded your own video."
      ]
    },
    {
      "cell_type": "code",
      "metadata": {
        "id": "VLonjeynFONz"
      },
      "source": [
        "!gdown https://drive.google.com/uc?id=1I0v72-hNlK1hm9q1OwyaATUYApXpotS6 -O input.mp4"
      ],
      "execution_count": null,
      "outputs": []
    },
    {
      "cell_type": "markdown",
      "metadata": {
        "id": "Jy5AetvnHYyO"
      },
      "source": [
        "### Start Inference\n",
        "\n",
        "Run the cells below to process your video."
      ]
    },
    {
      "cell_type": "code",
      "metadata": {
        "id": "FENlcP_UGnBC"
      },
      "source": [
        "!pip install --quiet av pims"
      ],
      "execution_count": null,
      "outputs": []
    },
    {
      "cell_type": "code",
      "metadata": {
        "id": "zhAstublHpze"
      },
      "source": [
        "import torch\n",
        "\n",
        "model = torch.hub.load(\"PeterL1n/RobustVideoMatting\", \"mobilenetv3\").cuda() # or \"resnet50\"\n",
        "convert_video = torch.hub.load(\"PeterL1n/RobustVideoMatting\", \"converter\")"
      ],
      "execution_count": null,
      "outputs": []
    },
    {
      "cell_type": "code",
      "metadata": {
        "id": "XQS1RNu3IEl2"
      },
      "source": [
        "convert_video(\n",
        "    model,                           # The loaded model, can be on any device (cpu or cuda).\n",
        "    input_source='input.mp4',        # A video file or an image sequence directory.\n",
        "    downsample_ratio=None,           # [Optional] If None, make downsampled max size be 512px.\n",
        "    output_type='video',             # Choose \"video\" or \"png_sequence\"\n",
        "    output_composition='com.mp4',    # File path if video; directory path if png sequence.\n",
        "    output_alpha=\"pha.mp4\",          # [Optional] Output the raw alpha prediction.\n",
        "    output_foreground=\"fgr.mp4\",     # [Optional] Output the raw foreground prediction.\n",
        "    output_video_mbps=4,             # Output video mbps. Not needed for png sequence.\n",
        "    seq_chunk=12,                    # Process n frames at once for better parallelism.\n",
        "    num_workers=1,                   # Only for image sequence input. Reader threads.\n",
        "    progress=True                    # Print conversion progress.\n",
        ")"
      ],
      "execution_count": null,
      "outputs": []
    },
    {
      "cell_type": "markdown",
      "metadata": {
        "id": "-iJwFwqUI9Az"
      },
      "source": [
        "### Download results\n",
        "\n",
        "After the processing is done, you can download the results from the files panel on the left.\n",
        "\n",
        "* `com.mp4`: The matting result composited on top of a green screen background.\n",
        "* `pha.mp4`: The raw alpha matte.\n",
        "* `fgr.mp4`: The raw foreground prediction."
      ]
    }
  ]
}